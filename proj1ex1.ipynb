{
 "cells": [
  {
   "cell_type": "markdown",
   "metadata": {},
   "source": [
    "1.Population dynamics"
   ]
  },
  {
   "cell_type": "code",
   "execution_count": 6,
   "metadata": {},
   "outputs": [
    {
     "name": "stdout",
     "output_type": "stream",
     "text": [
      "[282.5 385.  182.5]\n"
     ]
    }
   ],
   "source": [
    "import numpy as np\n",
    "\n",
    "A = [[0.70,0.15,0.10],\n",
    "     [0.15,0.80,0.30],\n",
    "     [0.15,0.05,0.60]]\n",
    "\n",
    "x0 = [300,350,200]\n",
    "# numpy's dot() function multiplys two matrices, \n",
    "# and gives an error if the sizes dont match up\n",
    "print(np.dot(A,x0))"
   ]
  },
  {
   "cell_type": "markdown",
   "metadata": {},
   "source": [
    "a)  Use Eq. (1) to find the population distribution one year after the census."
   ]
  },
  {
   "cell_type": "code",
   "execution_count": 8,
   "metadata": {},
   "outputs": [
    {
     "name": "stdout",
     "output_type": "stream",
     "text": [
      "[282.5 385.  182.5]\n"
     ]
    }
   ],
   "source": [
    "x1 = np.dot(A,x0)\n",
    "print(x1)"
   ]
  },
  {
   "cell_type": "markdown",
   "metadata": {},
   "source": [
    "b) Give a formula for Xn in terms of powers of A and xo."
   ]
  },
  {
   "cell_type": "markdown",
   "metadata": {},
   "source": [
    "xn = A*xn-1"
   ]
  },
  {
   "cell_type": "markdown",
   "metadata": {},
   "source": [
    "c) Calculate the state vectors x1 , x2, ••. , x10. Observe that the population distribution\n",
    "seems to be reaching a steady state. Estimate the steady-state population for\n",
    "each region."
   ]
  },
  {
   "cell_type": "code",
   "execution_count": 16,
   "metadata": {},
   "outputs": [
    {
     "name": "stdout",
     "output_type": "stream",
     "text": [
      "x 0 :  [300, 350, 200]\n",
      "x 1 :  [282.5 385.  182.5]\n",
      "x 2 :  [273.75  405.125 171.125]\n",
      "x 3 :  [269.50625 416.5     163.99375]\n",
      "x 4 :  [267.52875   422.8240625 159.6471875]\n",
      "x 5 :  [266.65845312 426.28271875 157.05882812]\n",
      "x 6 :  [266.30920781 428.14259141 155.54820078]\n",
      "x 7 :  [266.19265426 429.12491453 154.68243121]\n",
      "x 8 :  [266.17183828 429.63355913 154.19460259]\n",
      "x 9 :  [266.18478093 429.89100382 153.92421525]\n",
      "x 10 :  [266.20541875 430.01778477 153.77679648]\n"
     ]
    }
   ],
   "source": [
    "xn = np.dot(A,x0)\n",
    "print(\"x 0 : \", x0)\n",
    "print(\"x 1 : \", xn)\n",
    "\n",
    "for i in range (9):\n",
    "    xn = np.dot(A,xn)\n",
    "    print(\"x\",i+2,\": \", xn)"
   ]
  },
  {
   "cell_type": "markdown",
   "metadata": {},
   "source": [
    "It seems that\n",
    "\n",
    "A. approaches 266\\\n",
    "B. approaches 430\\\n",
    "C. approaches 154"
   ]
  },
  {
   "cell_type": "markdown",
   "metadata": {},
   "source": [
    "d) Calculate x20 and compare it with your estimate from part c)."
   ]
  },
  {
   "cell_type": "code",
   "execution_count": 18,
   "metadata": {},
   "outputs": [
    {
     "name": "stdout",
     "output_type": "stream",
     "text": [
      "x 20 :  [266.26471079 430.12092489 153.61436432]\n"
     ]
    }
   ],
   "source": [
    "xn = np.dot(A,x0)\n",
    "\n",
    "for i in range (19):\n",
    "    xn = np.dot(A,xn)\n",
    "print(\"x\",i+2,\": \", xn)"
   ]
  },
  {
   "cell_type": "markdown",
   "metadata": {},
   "source": [
    "I guess everything drifted less than I expected."
   ]
  },
  {
   "cell_type": "markdown",
   "metadata": {},
   "source": [
    "e) Let x_ 1 denote the state vector one year prior to the census. Calculate x_ 1 ."
   ]
  },
  {
   "cell_type": "markdown",
   "metadata": {},
   "source": [
    "x_0 = Ax_1\n",
    "\n",
    "x_1 = $A^{-1}$x_0"
   ]
  },
  {
   "cell_type": "code",
   "execution_count": 24,
   "metadata": {},
   "outputs": [
    {
     "name": "stdout",
     "output_type": "stream",
     "text": [
      "[334.14634146 290.24390244 225.6097561 ]\n",
      "Taking the next step to check \n",
      " [300. 350. 200.]\n"
     ]
    }
   ],
   "source": [
    "#numpy's way of taking an inverse\n",
    "An1 = np.linalg.inv(A)\n",
    "\n",
    "x_1 = np.dot(An1,x0)\n",
    "print(x_1)\n",
    "print(\"Taking the next step to check \\n\", np.dot(A,x_1))"
   ]
  },
  {
   "cell_type": "markdown",
   "metadata": {},
   "source": [
    "f) Demonstrate that Eq. (1) has not always been an accurate model for population\n",
    "distribution by calculating the state vector four years prior to the census."
   ]
  },
  {
   "cell_type": "code",
   "execution_count": 31,
   "metadata": {},
   "outputs": [
    {
     "name": "stdout",
     "output_type": "stream",
     "text": [
      "x_ 1 :  [334.14634146 290.24390244 225.6097561 ]\n",
      "x_ 2 :  [399.38528654 190.30339084 260.31132263]\n",
      "x_ 3 :  [521.71536171  27.12139019 301.1632481 ]\n",
      "x_ 4 :  [ 747.15971169 -231.60930611  334.44959442]\n"
     ]
    }
   ],
   "source": [
    "print(\"x_ 1 : \",x_1)\n",
    "x_n = np.dot(An1,x0)\n",
    "for i in range(3):\n",
    "    x_n = np.dot(An1,x_n)\n",
    "    print(\"x_\",i+2,\": \", x_n)"
   ]
  },
  {
   "cell_type": "markdown",
   "metadata": {},
   "source": [
    "Region B ends up having a negative population... Which is not possible"
   ]
  },
  {
   "cell_type": "markdown",
   "metadata": {},
   "source": [
    "g) How should we rearrange the population just after the census so that the distribution\n",
    "three years later is x3 = [250, 400, 200]t? That is, what should x0 be in order to hit\n",
    "the target X3?"
   ]
  },
  {
   "cell_type": "code",
   "execution_count": 44,
   "metadata": {},
   "outputs": [
    {
     "name": "stdout",
     "output_type": "stream",
     "text": [
      "x_ 3 :  [250, 400, 200]\n",
      "x_ 2 :  [242.07151828 289.45072378 318.47775795]\n",
      "x_ 1 :  [249.79909902 143.84117726 456.35972372]\n",
      "x_ 0 :  [ 286.04061999 -136.50545949  700.46483949]\n"
     ]
    }
   ],
   "source": [
    "x3 = [250,400,200]\n",
    "\n",
    "print(\"x_ 3 : \",x3)\n",
    "x_n = np.dot(An1,x3)\n",
    "for i in range(3):\n",
    "    x_n = np.dot(An1,x_n)\n",
    "    print(\"x_\",2-i,\": \", x_n)"
   ]
  },
  {
   "cell_type": "code",
   "execution_count": 46,
   "metadata": {},
   "outputs": [
    {
     "name": "stdout",
     "output_type": "stream",
     "text": [
      "start year 0 :  [286.04061999, -136.50545949, 700.46483949]\n",
      "year 1 :  [242.07151827 289.45072377 318.47775795]\n",
      "year 2 :  [244.71544715 363.41463414 241.8699187 ]\n",
      "year 3 :  [250. 400. 200.]\n"
     ]
    }
   ],
   "source": [
    "#notice we have to start with a negitive population\n",
    "year0 = [ 286.04061999, -136.50545949, 700.46483949]\n",
    "xn = np.dot(A,year0)\n",
    "print(\"start year 0 : \", year0)\n",
    "# print(\"x 1 : \", xn)\n",
    "\n",
    "for i in range (3):\n",
    "    xn = np.dot(A,xn)\n",
    "    print(\"year\",i+1,\": \", xn)"
   ]
  }
 ],
 "metadata": {
  "kernelspec": {
   "display_name": "Python 3",
   "language": "python",
   "name": "python3"
  },
  "language_info": {
   "codemirror_mode": {
    "name": "ipython",
    "version": 3
   },
   "file_extension": ".py",
   "mimetype": "text/x-python",
   "name": "python",
   "nbconvert_exporter": "python",
   "pygments_lexer": "ipython3",
   "version": "3.8.3"
  }
 },
 "nbformat": 4,
 "nbformat_minor": 4
}
