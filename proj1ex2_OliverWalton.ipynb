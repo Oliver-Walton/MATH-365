{
 "cells": [
  {
   "cell_type": "markdown",
   "metadata": {},
   "source": [
    "2.Partitioned matrices"
   ]
  },
  {
   "cell_type": "code",
   "execution_count": 14,
   "metadata": {},
   "outputs": [
    {
     "name": "stdout",
     "output_type": "stream",
     "text": [
      "[[0.3177023  0.41870987 0.24512839 0.78306648 0.1270157  0.73426178]\n",
      " [0.98788529 0.56963833 0.39565783 0.71470309 0.59258129 0.88367835]\n",
      " [0.1872055  0.10676959 0.18697827 0.65614251 0.15034277 0.14678591]\n",
      " [0.45622889 0.70521531 0.0938537  0.96916034 0.26164054 0.80126019]\n",
      " [0.20736256 0.59397275 0.97232222 0.7305967  0.54128399 0.41956275]\n",
      " [0.2698817  0.93266172 0.25465483 0.00724655 0.57050343 0.09278105]]\n"
     ]
    }
   ],
   "source": [
    "import numpy as np\n",
    "\n",
    "#numpy's way of generating a random matrix of a given size\n",
    "print(np.random.rand(6,6))"
   ]
  },
  {
   "cell_type": "markdown",
   "metadata": {},
   "source": [
    "a) Using the MATLAB command round ( 10 *rand ( 6, 6) ) generate two randomly\n",
    "selected ( 6 x 6) matrices A and B. Compute the product AB. Then write each of A\n",
    "and B as a block matrix of the form\n",
    "\n",
    "A = \n",
    "$\\begin{bmatrix}\n",
    "    A_1 & A_2\\\\\n",
    "    A_3 & A_4\n",
    "\\end{bmatrix}$\n",
    "\n",
    "B = \n",
    "$\\begin{bmatrix}\n",
    "    B_1 & B_2\\\\\n",
    "    B_3 & B_4\n",
    "\\end{bmatrix}$\n",
    "\n",
    "Above, each A1 and B1 should be a (3 x 3) block. Using matrix surgery (see Section 4\n",
    "of Appendix A) extract the A1 and B1 matrices and form the new block matrix:\n",
    "\n",
    "AB = \n",
    "$\\begin{bmatrix}\n",
    "    A_1B_1 + A_2B_3 & A_1B_2 + A_2B_4\\\\\n",
    "    A_3B_1 + A_4B_3 & A_3B_2 + A_4B_4\n",
    "\\end{bmatrix}$\n",
    "\n",
    "\n",
    "Compare the preceding block matrix with AB and confirm that they are equal."
   ]
  },
  {
   "cell_type": "code",
   "execution_count": 20,
   "metadata": {},
   "outputs": [
    {
     "name": "stdout",
     "output_type": "stream",
     "text": [
      "A= \n",
      " [[0.87730527 0.04430991 0.61254229 0.62226797 0.90133676 0.38112296]\n",
      " [0.10519818 0.23826767 0.68581646 0.64988816 0.39108448 0.85104838]\n",
      " [0.11796045 0.44977712 0.06856825 0.29112559 0.10010797 0.54904344]\n",
      " [0.14383593 0.77914772 0.91724231 0.86366051 0.7960708  0.78816916]\n",
      " [0.13271107 0.45290554 0.72833777 0.19404693 0.52850299 0.49754293]\n",
      " [0.40137412 0.97687978 0.51362255 0.74330649 0.9876486  0.82663379]]\n",
      "\n",
      "B= \n",
      " [[0.89216501 0.29109002 0.35287724 0.10611353 0.54729888 0.94693638]\n",
      " [0.36233265 0.96881203 0.06428128 0.66596007 0.08200232 0.26643193]\n",
      " [0.45738698 0.03535655 0.81132027 0.38152768 0.87672118 0.32750605]\n",
      " [0.05241003 0.23539663 0.95354384 0.67235142 0.85850251 0.64171944]\n",
      " [0.65365495 0.99549453 0.06758105 0.8216686  0.88419987 0.82633953]\n",
      " [0.22471011 0.74037516 0.1141337  0.04330646 0.29412282 0.00318733]]\n",
      "\n",
      "AB= \n",
      " [[1.78634335 1.64588973 1.50716938 1.53179237 2.46408792 2.18851556]\n",
      " [0.97480395 1.45810586 1.35211505 1.22664862 1.83242337 1.13063414]\n",
      " [0.50364093 1.04719598 0.4731994  0.6399829  0.66149134 0.52528665]\n",
      " [1.57290041 2.4084752  1.81231244 2.15302011 2.62393788 1.85876038]\n",
      " [1.08306638 1.44333098 0.94439471 1.17984933 1.52855186 1.04770489]\n",
      " [1.81726272 2.85159855 1.49101169 2.23619696 2.50462289 2.10432427]]\n"
     ]
    }
   ],
   "source": [
    "#randamize A and B\n",
    "A = np.random.rand(6,6)\n",
    "B = np.random.rand(6,6)\n",
    "\n",
    "print (\"A= \\n\",A)\n",
    "print (\"\\nB= \\n\",B)\n",
    "print (\"\\nAB= \\n\",np.dot(A,B))"
   ]
  },
  {
   "cell_type": "code",
   "execution_count": 23,
   "metadata": {},
   "outputs": [],
   "source": [
    "#Start of problem defining everything\n",
    "\n",
    "#A blocks\n",
    "A1 = [[A[0,0],A[0,1],A[0,2]],\n",
    "      [A[1,0],A[1,1],A[1,2]],\n",
    "      [A[2,0],A[2,1],A[2,2]]]\n",
    "\n",
    "A2 = [[A[0,3],A[0,4],A[0,5]],\n",
    "      [A[1,3],A[1,4],A[1,5]],\n",
    "      [A[2,3],A[2,4],A[2,5]]]\n",
    "\n",
    "A3 = [[A[3,0],A[3,1],A[3,2]],\n",
    "      [A[4,0],A[4,1],A[4,2]],\n",
    "      [A[5,0],A[5,1],A[5,2]]]\n",
    "\n",
    "A4 = [[A[3,3],A[3,4],A[3,5]],\n",
    "      [A[4,3],A[4,4],A[4,5]],\n",
    "      [A[5,3],A[5,4],A[5,5]]]\n",
    "\n",
    "#B blocks\n",
    "B1 = [[B[0,0],B[0,1],B[0,2]],\n",
    "      [B[1,0],B[1,1],B[1,2]],\n",
    "      [B[2,0],B[2,1],B[2,2]]]\n",
    "\n",
    "B2 = [[B[0,3],B[0,4],B[0,5]],\n",
    "      [B[1,3],B[1,4],B[1,5]],\n",
    "      [B[2,3],B[2,4],B[2,5]]]\n",
    "\n",
    "B3 = [[B[3,0],B[3,1],B[3,2]],\n",
    "      [B[4,0],B[4,1],B[4,2]],\n",
    "      [B[5,0],B[5,1],B[5,2]]]\n",
    "\n",
    "B4 = [[B[3,3],B[3,4],B[3,5]],\n",
    "      [B[4,3],B[4,4],B[4,5]],\n",
    "      [B[5,3],B[5,4],B[5,5]]]"
   ]
  },
  {
   "cell_type": "code",
   "execution_count": 46,
   "metadata": {},
   "outputs": [
    {
     "name": "stdout",
     "output_type": "stream",
     "text": [
      "AB from block method\n",
      " AB=\n",
      " [[1.78634335 1.64588973 1.50716938 1.53179237 2.46408792 2.18851556]\n",
      " [0.97480395 1.45810586 1.35211505 1.22664862 1.83242337 1.13063414]\n",
      " [0.50364093 1.04719598 0.4731994  0.6399829  0.66149134 0.52528665]\n",
      " [1.57290041 2.4084752  1.81231244 2.15302011 2.62393788 1.85876038]\n",
      " [1.08306638 1.44333098 0.94439471 1.17984933 1.52855186 1.04770489]\n",
      " [1.81726272 2.85159855 1.49101169 2.23619696 2.50462289 2.10432427]]\n",
      "\n",
      "AB through normal multiplication\n",
      " AB=\n",
      " [[1.78634335 1.64588973 1.50716938 1.53179237 2.46408792 2.18851556]\n",
      " [0.97480395 1.45810586 1.35211505 1.22664862 1.83242337 1.13063414]\n",
      " [0.50364093 1.04719598 0.4731994  0.6399829  0.66149134 0.52528665]\n",
      " [1.57290041 2.4084752  1.81231244 2.15302011 2.62393788 1.85876038]\n",
      " [1.08306638 1.44333098 0.94439471 1.17984933 1.52855186 1.04770489]\n",
      " [1.81726272 2.85159855 1.49101169 2.23619696 2.50462289 2.10432427]]\n"
     ]
    }
   ],
   "source": [
    "# use np.add to add the 2 multiplied matricies\n",
    "AB1 = np.add(np.dot(A1,B1), np.dot(A2,B3))\n",
    "AB2 = np.add(np.dot(A1,B2), np.dot(A2,B4))\n",
    "AB3 = np.add(np.dot(A3,B1), np.dot(A4,B3))\n",
    "AB4 = np.add(np.dot(A3,B2), np.dot(A4,B4))\n",
    "# print(AB1)\n",
    "\n",
    "#initilizes an empty 6x6 matrix\n",
    "AB_block = np.zeros((6,6))\n",
    "\n",
    "for i in range(3):\n",
    "    for j in range(3):\n",
    "        AB_block[i,j] = AB1[i,j]\n",
    "        AB_block[i,j+3] = AB2[i,j]\n",
    "        AB_block[i+3,j] = AB3[i,j]\n",
    "        AB_block[i+3,j+3] = AB4[i,j]\n",
    "\n",
    "print(\"AB from block method\\n AB=\\n\" ,AB_block)\n",
    "print(\"\\nAB through normal multiplication\\n AB=\\n\", np.dot(A,B))"
   ]
  },
  {
   "cell_type": "markdown",
   "metadata": {},
   "source": [
    "b) Repeat this calculation on three other matrices (not necessarily (6 x 6) matrices).\n",
    "Break some of these matrices into blocks of unequal sizes. You need to make sure\n",
    "that corresponding blocks are the correct size so that matrix multiplication is defined."
   ]
  },
  {
   "cell_type": "code",
   "execution_count": 47,
   "metadata": {},
   "outputs": [
    {
     "name": "stdout",
     "output_type": "stream",
     "text": [
      "C= \n",
      " [[0.10741933 0.0401007  0.13932469]\n",
      " [0.75488004 0.58613515 0.32953784]\n",
      " [0.3075913  0.42949935 0.42258834]]\n",
      "\n",
      "D= \n",
      " [[0.41152523 0.08564739 0.18398238]\n",
      " [0.77768723 0.03877271 0.78155667]\n",
      " [0.74008683 0.67388658 0.63430076]]\n",
      "\n",
      "CD= \n",
      " [[0.17850393 0.10464404 0.13947799]\n",
      " [1.01036861 0.30945068 0.80600857]\n",
      " [0.7733498  0.32777386 0.66031757]]\n"
     ]
    }
   ],
   "source": [
    "#I assume by 3 other it means, A, B, and AB. So im gonna do 3x3\n",
    "\n",
    "#randamize C and D\n",
    "C = np.random.rand(3,3)\n",
    "D = np.random.rand(3,3)\n",
    "\n",
    "print (\"C= \\n\",C)\n",
    "print (\"\\nD= \\n\",D)\n",
    "print (\"\\nCD= \\n\",np.dot(C,D))"
   ]
  },
  {
   "cell_type": "code",
   "execution_count": 77,
   "metadata": {},
   "outputs": [],
   "source": [
    "# C block\n",
    "C1 = [[C[0,0],C[0,1]],\n",
    "      [C[1,0],C[1,1]]]\n",
    "\n",
    "C2 = [[C[0,2]],\n",
    "      [C[1,2]]]\n",
    "\n",
    "C3 = [[C[2,0],C[2,1]]]\n",
    "\n",
    "C4 = [[C[2,2]]]\n",
    "\n",
    "\n",
    "# D block\n",
    "D1 = [[D[0,0],D[0,1]],\n",
    "      [D[1,0],D[1,1]]]\n",
    "\n",
    "D2 = [[D[0,2]],\n",
    "      [D[1,2]]]\n",
    "\n",
    "D3 = [[D[2,0],D[2,1]]]\n",
    "\n",
    "D4 = [[D[2,2]]]"
   ]
  },
  {
   "cell_type": "code",
   "execution_count": 79,
   "metadata": {},
   "outputs": [
    {
     "name": "stdout",
     "output_type": "stream",
     "text": [
      "CD from block method\n",
      " CD=\n",
      " [[0.17850393 0.10464404 0.13947799]\n",
      " [1.01036861 0.30945068 0.80600857]\n",
      " [0.7733498  0.32777386 0.66031757]]\n",
      "\n",
      "CD through normal multiplication\n",
      " CD=\n",
      " [[0.17850393 0.10464404 0.13947799]\n",
      " [1.01036861 0.30945068 0.80600857]\n",
      " [0.7733498  0.32777386 0.66031757]]\n"
     ]
    }
   ],
   "source": [
    "# use np.add to add the 2 multiplied matricies\n",
    "CD1 = np.add(np.dot(C1,D1), np.dot(C2,D3))\n",
    "CD2 = np.add(np.dot(C1,D2), np.dot(C2,D4))\n",
    "CD3 = np.add(np.dot(C3,D1), np.dot(C4,D3))\n",
    "CD4 = np.add(np.dot(C3,D2), np.dot(C4,D4))\n",
    "\n",
    "#initilizes an empty 3x3 matrix\n",
    "CD_block = np.zeros((3,3))\n",
    "\n",
    "for i in range(2):\n",
    "    for j in range(2):\n",
    "        CD_block[i,j] = CD1[i,j]\n",
    "        \n",
    "CD_block[0,2] = CD2[0,0]\n",
    "CD_block[1,2] = CD2[1,0]\n",
    "\n",
    "CD_block[2,0] = CD3[0,0]\n",
    "CD_block[2,1] = CD3[0,1]\n",
    "\n",
    "CD_block[2,2] = CD4[0,0]\n",
    "\n",
    "print(\"CD from block method\\n CD=\\n\" ,CD_block)\n",
    "print(\"\\nCD through normal multiplication\\n CD=\\n\", np.dot(C,D))"
   ]
  },
  {
   "cell_type": "markdown",
   "metadata": {},
   "source": [
    "c) Repeat the calculation in (a) with the product of a (2 x 3) block matrix times a\n",
    "(3 x 3) block matrix."
   ]
  },
  {
   "cell_type": "code",
   "execution_count": 52,
   "metadata": {},
   "outputs": [
    {
     "name": "stdout",
     "output_type": "stream",
     "text": [
      "E= \n",
      " [[0.15135655 0.81821324 0.42734536]\n",
      " [0.63402855 0.82193048 0.18602505]]\n",
      "\n",
      "F= \n",
      " [[0.39139892 0.91777686 0.63770842]\n",
      " [0.37852436 0.48707977 0.86060872]\n",
      " [0.65318224 0.19845424 0.34368603]]\n",
      "\n",
      "EF= \n",
      " [[0.64808883 0.62225516 0.94755543]\n",
      " [0.68078705 1.0191599  1.17562009]]\n"
     ]
    }
   ],
   "source": [
    "#randamize E and F\n",
    "E = np.random.rand(2,3)\n",
    "F = np.random.rand(3,3)\n",
    "\n",
    "print (\"E= \\n\",E)\n",
    "print (\"\\nF= \\n\",F)\n",
    "print (\"\\nEF= \\n\",np.dot(E,F))"
   ]
  },
  {
   "cell_type": "code",
   "execution_count": 80,
   "metadata": {},
   "outputs": [],
   "source": [
    "# E block\n",
    "E1 = [[E[0,0],E[0,1]]]\n",
    "\n",
    "E2 = [[E[0,2]]]\n",
    "\n",
    "E3 = [E[1,0],E[1,1]]\n",
    "\n",
    "E4 = [[E[1,2]]]\n",
    "\n",
    "\n",
    "# D block\n",
    "F1 = [[F[0,0],F[0,1]],\n",
    "      [F[1,0],F[1,1]]]\n",
    "\n",
    "F2 = [[F[0,2]],\n",
    "      [F[1,2]]]\n",
    "\n",
    "F3 = [[F[2,0],F[2,1]]]\n",
    "\n",
    "F4 = [[F[2,2]]]"
   ]
  },
  {
   "cell_type": "code",
   "execution_count": 87,
   "metadata": {},
   "outputs": [
    {
     "name": "stdout",
     "output_type": "stream",
     "text": [
      "EF from block method\n",
      " EF=\n",
      " [[0.64808883 0.62225516 0.94755543]\n",
      " [0.68078705 1.0191599  1.17562009]]\n",
      "\n",
      "EF through normal multiplication\n",
      " EF=\n",
      " [[0.64808883 0.62225516 0.94755543]\n",
      " [0.68078705 1.0191599  1.17562009]]\n"
     ]
    }
   ],
   "source": [
    "# use np.add to add the 2 multiplied matricies\n",
    "EF1 = np.add(np.dot(E1,F1), np.dot(E2,F3))\n",
    "EF2 = np.add(np.dot(E1,F2), np.dot(E2,F4))\n",
    "EF3 = np.add(np.dot(E3,F1), np.dot(E4,F3))\n",
    "EF4 = np.add(np.dot(E3,F2), np.dot(E4,F4))\n",
    "\n",
    "#initilizes an empty 2x3 matrix\n",
    "EF_block = np.zeros((2,3))\n",
    "\n",
    "\n",
    "EF_block[0,0] = EF1[0,0]\n",
    "EF_block[0,1] = EF1[0,1]\n",
    "        \n",
    "EF_block[0,2] = EF2[0,0]\n",
    "\n",
    "EF_block[1,0] = EF3[0,0]\n",
    "EF_block[1,1] = EF3[0,1]\n",
    "\n",
    "EF_block[1,2] = EF4[0,0]\n",
    "\n",
    "print(\"EF from block method\\n EF=\\n\" ,EF_block)\n",
    "print(\"\\nEF through normal multiplication\\n EF=\\n\", np.dot(E,F))"
   ]
  }
 ],
 "metadata": {
  "kernelspec": {
   "display_name": "Python 3",
   "language": "python",
   "name": "python3"
  },
  "language_info": {
   "codemirror_mode": {
    "name": "ipython",
    "version": 3
   },
   "file_extension": ".py",
   "mimetype": "text/x-python",
   "name": "python",
   "nbconvert_exporter": "python",
   "pygments_lexer": "ipython3",
   "version": "3.8.3"
  }
 },
 "nbformat": 4,
 "nbformat_minor": 4
}
